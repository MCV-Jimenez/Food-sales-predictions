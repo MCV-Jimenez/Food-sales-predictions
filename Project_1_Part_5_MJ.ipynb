{
  "nbformat": 4,
  "nbformat_minor": 0,
  "metadata": {
    "colab": {
      "name": "Project 1 Part 5 -MJ",
      "provenance": [],
      "collapsed_sections": [
        "ugPOnc7axWrH",
        "XT7G5pL3OTPx",
        "fZWpoORng-iW",
        "2-IzOhAFiCVU"
      ],
      "authorship_tag": "ABX9TyMrbyAeFJb1EywPWHteOZWo",
      "include_colab_link": true
    },
    "kernelspec": {
      "name": "python3",
      "display_name": "Python 3"
    },
    "language_info": {
      "name": "python"
    }
  },
  "cells": [
    {
      "cell_type": "markdown",
      "metadata": {
        "id": "view-in-github",
        "colab_type": "text"
      },
      "source": [
        "<a href=\"https://colab.research.google.com/github/MCV-Jimenez/Food-sales-predictions/blob/main/Project_1_Part_5_MJ.ipynb\" target=\"_parent\"><img src=\"https://colab.research.google.com/assets/colab-badge.svg\" alt=\"Open In Colab\"/></a>"
      ]
    },
    {
      "cell_type": "markdown",
      "source": [
        "# Project 1 Part 5\n",
        "\n",
        "**Marco Jimenez**\n",
        "\n",
        "3/23/2022"
      ],
      "metadata": {
        "id": "bo5XKK1cVVPn"
      }
    },
    {
      "cell_type": "markdown",
      "source": [
        "# Libraries & Loading Data"
      ],
      "metadata": {
        "id": "ugPOnc7axWrH"
      }
    },
    {
      "cell_type": "markdown",
      "metadata": {
        "id": "uU396j2Podod"
      },
      "source": [
        "**Tasks:**\n",
        "\n",
        "[X] Identify the target (X) and features (y): Assign the \"Item_Outlet_Sales\" column as your target and the rest of the relevant variables as your features matrix.\n",
        "\n",
        "[X] Perform a train test split \n",
        "\n",
        "[X] Create a pre processing pipeline to prepare the dataset for Machine Learning"
      ]
    },
    {
      "cell_type": "code",
      "execution_count": 9,
      "metadata": {
        "id": "-Gp7zuYvtMOm"
      },
      "outputs": [],
      "source": [
        "# Leading necessary libraries\n",
        "import pandas as pd\n",
        "import numpy as np\n",
        "import matplotlib.pyplot as plt\n",
        "import seaborn as sns\n",
        "from sklearn.preprocessing import StandardScaler, OneHotEncoder\n",
        "from sklearn.impute import SimpleImputer\n",
        "from sklearn.compose import make_column_transformer, make_column_selector\n",
        "from sklearn.pipeline import make_pipeline\n",
        "from sklearn.model_selection import train_test_split\n",
        "from sklearn import set_config\n",
        "set_config(display='diagram')"
      ]
    },
    {
      "cell_type": "code",
      "execution_count": 10,
      "metadata": {
        "id": "R1SniH7rtgcJ",
        "colab": {
          "base_uri": "https://localhost:8080/",
          "height": 357
        },
        "outputId": "21bf41af-2160-45b5-e861-6b4e015bda34"
      },
      "outputs": [
        {
          "output_type": "execute_result",
          "data": {
            "text/plain": [
              "  Item_Identifier  Item_Weight Item_Fat_Content  Item_Visibility  \\\n",
              "0           FDA15         9.30          Low Fat         0.016047   \n",
              "1           DRC01         5.92          Regular         0.019278   \n",
              "2           FDN15        17.50          Low Fat         0.016760   \n",
              "3           FDX07        19.20          Regular         0.000000   \n",
              "4           NCD19         8.93          Low Fat         0.000000   \n",
              "\n",
              "               Item_Type  Item_MRP Outlet_Identifier  \\\n",
              "0                  Dairy  249.8092            OUT049   \n",
              "1            Soft Drinks   48.2692            OUT018   \n",
              "2                   Meat  141.6180            OUT049   \n",
              "3  Fruits and Vegetables  182.0950            OUT010   \n",
              "4              Household   53.8614            OUT013   \n",
              "\n",
              "   Outlet_Establishment_Year Outlet_Size Outlet_Location_Type  \\\n",
              "0                       1999      Medium               Tier 1   \n",
              "1                       2009      Medium               Tier 3   \n",
              "2                       1999      Medium               Tier 1   \n",
              "3                       1998         NaN               Tier 3   \n",
              "4                       1987        High               Tier 3   \n",
              "\n",
              "         Outlet_Type  Item_Outlet_Sales  \n",
              "0  Supermarket Type1          3735.1380  \n",
              "1  Supermarket Type2           443.4228  \n",
              "2  Supermarket Type1          2097.2700  \n",
              "3      Grocery Store           732.3800  \n",
              "4  Supermarket Type1           994.7052  "
            ],
            "text/html": [
              "\n",
              "  <div id=\"df-aa1fa4a8-554c-4953-9ad7-c077beea655b\">\n",
              "    <div class=\"colab-df-container\">\n",
              "      <div>\n",
              "<style scoped>\n",
              "    .dataframe tbody tr th:only-of-type {\n",
              "        vertical-align: middle;\n",
              "    }\n",
              "\n",
              "    .dataframe tbody tr th {\n",
              "        vertical-align: top;\n",
              "    }\n",
              "\n",
              "    .dataframe thead th {\n",
              "        text-align: right;\n",
              "    }\n",
              "</style>\n",
              "<table border=\"1\" class=\"dataframe\">\n",
              "  <thead>\n",
              "    <tr style=\"text-align: right;\">\n",
              "      <th></th>\n",
              "      <th>Item_Identifier</th>\n",
              "      <th>Item_Weight</th>\n",
              "      <th>Item_Fat_Content</th>\n",
              "      <th>Item_Visibility</th>\n",
              "      <th>Item_Type</th>\n",
              "      <th>Item_MRP</th>\n",
              "      <th>Outlet_Identifier</th>\n",
              "      <th>Outlet_Establishment_Year</th>\n",
              "      <th>Outlet_Size</th>\n",
              "      <th>Outlet_Location_Type</th>\n",
              "      <th>Outlet_Type</th>\n",
              "      <th>Item_Outlet_Sales</th>\n",
              "    </tr>\n",
              "  </thead>\n",
              "  <tbody>\n",
              "    <tr>\n",
              "      <th>0</th>\n",
              "      <td>FDA15</td>\n",
              "      <td>9.30</td>\n",
              "      <td>Low Fat</td>\n",
              "      <td>0.016047</td>\n",
              "      <td>Dairy</td>\n",
              "      <td>249.8092</td>\n",
              "      <td>OUT049</td>\n",
              "      <td>1999</td>\n",
              "      <td>Medium</td>\n",
              "      <td>Tier 1</td>\n",
              "      <td>Supermarket Type1</td>\n",
              "      <td>3735.1380</td>\n",
              "    </tr>\n",
              "    <tr>\n",
              "      <th>1</th>\n",
              "      <td>DRC01</td>\n",
              "      <td>5.92</td>\n",
              "      <td>Regular</td>\n",
              "      <td>0.019278</td>\n",
              "      <td>Soft Drinks</td>\n",
              "      <td>48.2692</td>\n",
              "      <td>OUT018</td>\n",
              "      <td>2009</td>\n",
              "      <td>Medium</td>\n",
              "      <td>Tier 3</td>\n",
              "      <td>Supermarket Type2</td>\n",
              "      <td>443.4228</td>\n",
              "    </tr>\n",
              "    <tr>\n",
              "      <th>2</th>\n",
              "      <td>FDN15</td>\n",
              "      <td>17.50</td>\n",
              "      <td>Low Fat</td>\n",
              "      <td>0.016760</td>\n",
              "      <td>Meat</td>\n",
              "      <td>141.6180</td>\n",
              "      <td>OUT049</td>\n",
              "      <td>1999</td>\n",
              "      <td>Medium</td>\n",
              "      <td>Tier 1</td>\n",
              "      <td>Supermarket Type1</td>\n",
              "      <td>2097.2700</td>\n",
              "    </tr>\n",
              "    <tr>\n",
              "      <th>3</th>\n",
              "      <td>FDX07</td>\n",
              "      <td>19.20</td>\n",
              "      <td>Regular</td>\n",
              "      <td>0.000000</td>\n",
              "      <td>Fruits and Vegetables</td>\n",
              "      <td>182.0950</td>\n",
              "      <td>OUT010</td>\n",
              "      <td>1998</td>\n",
              "      <td>NaN</td>\n",
              "      <td>Tier 3</td>\n",
              "      <td>Grocery Store</td>\n",
              "      <td>732.3800</td>\n",
              "    </tr>\n",
              "    <tr>\n",
              "      <th>4</th>\n",
              "      <td>NCD19</td>\n",
              "      <td>8.93</td>\n",
              "      <td>Low Fat</td>\n",
              "      <td>0.000000</td>\n",
              "      <td>Household</td>\n",
              "      <td>53.8614</td>\n",
              "      <td>OUT013</td>\n",
              "      <td>1987</td>\n",
              "      <td>High</td>\n",
              "      <td>Tier 3</td>\n",
              "      <td>Supermarket Type1</td>\n",
              "      <td>994.7052</td>\n",
              "    </tr>\n",
              "  </tbody>\n",
              "</table>\n",
              "</div>\n",
              "      <button class=\"colab-df-convert\" onclick=\"convertToInteractive('df-aa1fa4a8-554c-4953-9ad7-c077beea655b')\"\n",
              "              title=\"Convert this dataframe to an interactive table.\"\n",
              "              style=\"display:none;\">\n",
              "        \n",
              "  <svg xmlns=\"http://www.w3.org/2000/svg\" height=\"24px\"viewBox=\"0 0 24 24\"\n",
              "       width=\"24px\">\n",
              "    <path d=\"M0 0h24v24H0V0z\" fill=\"none\"/>\n",
              "    <path d=\"M18.56 5.44l.94 2.06.94-2.06 2.06-.94-2.06-.94-.94-2.06-.94 2.06-2.06.94zm-11 1L8.5 8.5l.94-2.06 2.06-.94-2.06-.94L8.5 2.5l-.94 2.06-2.06.94zm10 10l.94 2.06.94-2.06 2.06-.94-2.06-.94-.94-2.06-.94 2.06-2.06.94z\"/><path d=\"M17.41 7.96l-1.37-1.37c-.4-.4-.92-.59-1.43-.59-.52 0-1.04.2-1.43.59L10.3 9.45l-7.72 7.72c-.78.78-.78 2.05 0 2.83L4 21.41c.39.39.9.59 1.41.59.51 0 1.02-.2 1.41-.59l7.78-7.78 2.81-2.81c.8-.78.8-2.07 0-2.86zM5.41 20L4 18.59l7.72-7.72 1.47 1.35L5.41 20z\"/>\n",
              "  </svg>\n",
              "      </button>\n",
              "      \n",
              "  <style>\n",
              "    .colab-df-container {\n",
              "      display:flex;\n",
              "      flex-wrap:wrap;\n",
              "      gap: 12px;\n",
              "    }\n",
              "\n",
              "    .colab-df-convert {\n",
              "      background-color: #E8F0FE;\n",
              "      border: none;\n",
              "      border-radius: 50%;\n",
              "      cursor: pointer;\n",
              "      display: none;\n",
              "      fill: #1967D2;\n",
              "      height: 32px;\n",
              "      padding: 0 0 0 0;\n",
              "      width: 32px;\n",
              "    }\n",
              "\n",
              "    .colab-df-convert:hover {\n",
              "      background-color: #E2EBFA;\n",
              "      box-shadow: 0px 1px 2px rgba(60, 64, 67, 0.3), 0px 1px 3px 1px rgba(60, 64, 67, 0.15);\n",
              "      fill: #174EA6;\n",
              "    }\n",
              "\n",
              "    [theme=dark] .colab-df-convert {\n",
              "      background-color: #3B4455;\n",
              "      fill: #D2E3FC;\n",
              "    }\n",
              "\n",
              "    [theme=dark] .colab-df-convert:hover {\n",
              "      background-color: #434B5C;\n",
              "      box-shadow: 0px 1px 3px 1px rgba(0, 0, 0, 0.15);\n",
              "      filter: drop-shadow(0px 1px 2px rgba(0, 0, 0, 0.3));\n",
              "      fill: #FFFFFF;\n",
              "    }\n",
              "  </style>\n",
              "\n",
              "      <script>\n",
              "        const buttonEl =\n",
              "          document.querySelector('#df-aa1fa4a8-554c-4953-9ad7-c077beea655b button.colab-df-convert');\n",
              "        buttonEl.style.display =\n",
              "          google.colab.kernel.accessAllowed ? 'block' : 'none';\n",
              "\n",
              "        async function convertToInteractive(key) {\n",
              "          const element = document.querySelector('#df-aa1fa4a8-554c-4953-9ad7-c077beea655b');\n",
              "          const dataTable =\n",
              "            await google.colab.kernel.invokeFunction('convertToInteractive',\n",
              "                                                     [key], {});\n",
              "          if (!dataTable) return;\n",
              "\n",
              "          const docLinkHtml = 'Like what you see? Visit the ' +\n",
              "            '<a target=\"_blank\" href=https://colab.research.google.com/notebooks/data_table.ipynb>data table notebook</a>'\n",
              "            + ' to learn more about interactive tables.';\n",
              "          element.innerHTML = '';\n",
              "          dataTable['output_type'] = 'display_data';\n",
              "          await google.colab.output.renderOutput(dataTable, element);\n",
              "          const docLink = document.createElement('div');\n",
              "          docLink.innerHTML = docLinkHtml;\n",
              "          element.appendChild(docLink);\n",
              "        }\n",
              "      </script>\n",
              "    </div>\n",
              "  </div>\n",
              "  "
            ]
          },
          "metadata": {},
          "execution_count": 10
        }
      ],
      "source": [
        "# Reloading data for simplicity\n",
        "path = '/content/sales_predictions.csv'\n",
        "df = pd.read_csv(path)\n",
        "df.head()"
      ]
    },
    {
      "cell_type": "markdown",
      "source": [
        "# Inspecting Data and Addressing discrepancies"
      ],
      "metadata": {
        "id": "XT7G5pL3OTPx"
      }
    },
    {
      "cell_type": "code",
      "execution_count": 11,
      "metadata": {
        "colab": {
          "base_uri": "https://localhost:8080/"
        },
        "id": "tKgOv1CAttY7",
        "outputId": "aaff1bfe-d086-4287-ff60-37f775d6c74c"
      },
      "outputs": [
        {
          "output_type": "stream",
          "name": "stdout",
          "text": [
            "<class 'pandas.core.frame.DataFrame'>\n",
            "RangeIndex: 8523 entries, 0 to 8522\n",
            "Data columns (total 12 columns):\n",
            " #   Column                     Non-Null Count  Dtype  \n",
            "---  ------                     --------------  -----  \n",
            " 0   Item_Identifier            8523 non-null   object \n",
            " 1   Item_Weight                7060 non-null   float64\n",
            " 2   Item_Fat_Content           8523 non-null   object \n",
            " 3   Item_Visibility            8523 non-null   float64\n",
            " 4   Item_Type                  8523 non-null   object \n",
            " 5   Item_MRP                   8523 non-null   float64\n",
            " 6   Outlet_Identifier          8523 non-null   object \n",
            " 7   Outlet_Establishment_Year  8523 non-null   int64  \n",
            " 8   Outlet_Size                6113 non-null   object \n",
            " 9   Outlet_Location_Type       8523 non-null   object \n",
            " 10  Outlet_Type                8523 non-null   object \n",
            " 11  Item_Outlet_Sales          8523 non-null   float64\n",
            "dtypes: float64(4), int64(1), object(7)\n",
            "memory usage: 799.2+ KB\n",
            "None \n",
            "\n",
            "Item_Identifier                 0\n",
            "Item_Weight                  1463\n",
            "Item_Fat_Content                0\n",
            "Item_Visibility                 0\n",
            "Item_Type                       0\n",
            "Item_MRP                        0\n",
            "Outlet_Identifier               0\n",
            "Outlet_Establishment_Year       0\n",
            "Outlet_Size                  2410\n",
            "Outlet_Location_Type            0\n",
            "Outlet_Type                     0\n",
            "Item_Outlet_Sales               0\n",
            "dtype: int64\n"
          ]
        }
      ],
      "source": [
        "# Inspecting data\n",
        "print(df.info(), '\\n')\n",
        "print(df.isna().sum())"
      ]
    },
    {
      "cell_type": "markdown",
      "source": [
        "The missing values in the Item Weight column will be filled in during pipeline processing. \n",
        "\n",
        "The Outlet Size column consists of Ordinal Data but it has missing values. To prep it for Machine Learning the values need to be Ordinal Encoded. Comparing the Outlet Sizes to Item Outlet Sales in the visuals below shows very close alignment between the data in the Missing category and the Small category. Since they are so closely aligned I will Ordinal Encode the Missing category to the same value as the Small category.  "
      ],
      "metadata": {
        "id": "1xFF-kAk_UAs"
      }
    },
    {
      "cell_type": "code",
      "source": [
        "# Filling in the missing values in Outlet Size for viewing purposes below\n",
        "df['Outlet_Size'] = df[['Outlet_Size']].fillna(\"missing\")"
      ],
      "metadata": {
        "id": "hSxavW0jcplm"
      },
      "execution_count": 12,
      "outputs": []
    },
    {
      "cell_type": "code",
      "source": [
        "# Inspecting Outlet Size column\n",
        "fig, axes = plt.subplots(figsize=(10,4), ncols=2)\n",
        "sns.boxplot(data=df, x='Outlet_Size', y='Item_Outlet_Sales', ax=axes[0])\n",
        "sns.barplot(data=df, x='Outlet_Size', y='Item_Outlet_Sales', ax=axes[1])\n",
        "fig.suptitle('Outlet Sizes vs Item Outlet Sales Comparison', y=1.04, size='xx-large')\n",
        "fig.tight_layout();"
      ],
      "metadata": {
        "colab": {
          "base_uri": "https://localhost:8080/",
          "height": 320
        },
        "id": "oAa3NoOhL4pS",
        "outputId": "b212f3c4-bb1a-4cca-d51f-b5b9e14b716d"
      },
      "execution_count": 13,
      "outputs": [
        {
          "output_type": "display_data",
          "data": {
            "text/plain": [
              "<Figure size 720x288 with 2 Axes>"
            ],
            "image/png": "[encoded data removed]"
          },
          "metadata": {
            "needs_background": "light"
          }
        }
      ]
    },
    {
      "cell_type": "code",
      "source": [
        "# Ordinal Encoding Outlet Size column and Confirming result\n",
        "df['Outlet_Size'].replace({'missing':1, 'Small':1, 'Medium':2, 'High':3}, inplace=True)\n",
        "df['Outlet_Size'].value_counts()"
      ],
      "metadata": {
        "colab": {
          "base_uri": "https://localhost:8080/"
        },
        "id": "8kNAwT0hfTY1",
        "outputId": "ee558d9d-e1eb-4836-9416-cdc8069ec3ba"
      },
      "execution_count": 14,
      "outputs": [
        {
          "output_type": "execute_result",
          "data": {
            "text/plain": [
              "1    4798\n",
              "2    2793\n",
              "3     932\n",
              "Name: Outlet_Size, dtype: int64"
            ]
          },
          "metadata": {},
          "execution_count": 14
        }
      ]
    },
    {
      "cell_type": "markdown",
      "source": [
        "# Identifying feature matrix(X), target(y), and Executing train test split"
      ],
      "metadata": {
        "id": "fZWpoORng-iW"
      }
    },
    {
      "cell_type": "code",
      "source": [
        "X = df.drop(columns=['Item_Identifier', 'Item_Outlet_Sales'])\n",
        "y = df['Item_Outlet_Sales']\n",
        "X_train, X_test, y_train, y_test = train_test_split(X, y, random_state=42) "
      ],
      "metadata": {
        "id": "Hn3W-hEcD5pW"
      },
      "execution_count": 15,
      "outputs": []
    },
    {
      "cell_type": "markdown",
      "source": [
        "# Pre Processing Pipeline to prepare the dataset for Machine Learning"
      ],
      "metadata": {
        "id": "2-IzOhAFiCVU"
      }
    },
    {
      "cell_type": "code",
      "source": [
        "# Instantiating column selectors\n",
        "num_selector = make_column_selector(dtype_include='number')\n",
        "cat_selector = make_column_selector(dtype_include='object')"
      ],
      "metadata": {
        "id": "3f87Q3FXh2O5"
      },
      "execution_count": 16,
      "outputs": []
    },
    {
      "cell_type": "code",
      "source": [
        "# Instantiating imputers\n",
        "mean_imputer = SimpleImputer(strategy='mean')\n",
        "freq_imputer = SimpleImputer(strategy='most_frequent')\n",
        "# Instantiating column transformers\n",
        "scaler = StandardScaler()\n",
        "ohe = OneHotEncoder(handle_unknown='ignore', sparse=False)"
      ],
      "metadata": {
        "id": "l11MFQMmimK4"
      },
      "execution_count": 17,
      "outputs": []
    },
    {
      "cell_type": "code",
      "source": [
        "# Creating numeric pipeline\n",
        "num_pipeline = make_pipeline(mean_imputer, scaler)\n",
        "num_pipeline"
      ],
      "metadata": {
        "colab": {
          "base_uri": "https://localhost:8080/",
          "height": 126
        },
        "id": "q-LF0H7hiufA",
        "outputId": "8d76642a-178e-4d78-cfda-68de7a2b348f"
      },
      "execution_count": 18,
      "outputs": [
        {
          "output_type": "execute_result",
          "data": {
            "text/plain": [
              "Pipeline(steps=[('simpleimputer', SimpleImputer()),\n",
              "                ('standardscaler', StandardScaler())])"
            ],
            "text/html": [
              "<style>#sk-e3ca3ba9-2840-41d2-bf90-0bdc0d085347 {color: black;background-color: white;}#sk-e3ca3ba9-2840-41d2-bf90-0bdc0d085347 pre{padding: 0;}#sk-e3ca3ba9-2840-41d2-bf90-0bdc0d085347 div.sk-toggleable {background-color: white;}#sk-e3ca3ba9-2840-41d2-bf90-0bdc0d085347 label.sk-toggleable__label {cursor: pointer;display: block;width: 100%;margin-bottom: 0;padding: 0.3em;box-sizing: border-box;text-align: center;}#sk-e3ca3ba9-2840-41d2-bf90-0bdc0d085347 label.sk-toggleable__label-arrow:before {content: \"▸\";float: left;margin-right: 0.25em;color: #696969;}#sk-e3ca3ba9-2840-41d2-bf90-0bdc0d085347 label.sk-toggleable__label-arrow:hover:before {color: black;}#sk-e3ca3ba9-2840-41d2-bf90-0bdc0d085347 div.sk-estimator:hover label.sk-toggleable__label-arrow:before {color: black;}#sk-e3ca3ba9-2840-41d2-bf90-0bdc0d085347 div.sk-toggleable__content {max-height: 0;max-width: 0;overflow: hidden;text-align: left;background-color: #f0f8ff;}#sk-e3ca3ba9-2840-41d2-bf90-0bdc0d085347 div.sk-toggleable__content pre {margin: 0.2em;color: black;border-radius: 0.25em;background-color: #f0f8ff;}#sk-e3ca3ba9-2840-41d2-bf90-0bdc0d085347 input.sk-toggleable__control:checked~div.sk-toggleable__content {max-height: 200px;max-width: 100%;overflow: auto;}#sk-e3ca3ba9-2840-41d2-bf90-0bdc0d085347 input.sk-toggleable__control:checked~label.sk-toggleable__label-arrow:before {content: \"▾\";}#sk-e3ca3ba9-2840-41d2-bf90-0bdc0d085347 div.sk-estimator input.sk-toggleable__control:checked~label.sk-toggleable__label {background-color: #d4ebff;}#sk-e3ca3ba9-2840-41d2-bf90-0bdc0d085347 div.sk-label input.sk-toggleable__control:checked~label.sk-toggleable__label {background-color: #d4ebff;}#sk-e3ca3ba9-2840-41d2-bf90-0bdc0d085347 input.sk-hidden--visually {border: 0;clip: rect(1px 1px 1px 1px);clip: rect(1px, 1px, 1px, 1px);height: 1px;margin: -1px;overflow: hidden;padding: 0;position: absolute;width: 1px;}#sk-e3ca3ba9-2840-41d2-bf90-0bdc0d085347 div.sk-estimator {font-family: monospace;background-color: #f0f8ff;border: 1px dotted black;border-radius: 0.25em;box-sizing: border-box;margin-bottom: 0.5em;}#sk-e3ca3ba9-2840-41d2-bf90-0bdc0d085347 div.sk-estimator:hover {background-color: #d4ebff;}#sk-e3ca3ba9-2840-41d2-bf90-0bdc0d085347 div.sk-parallel-item::after {content: \"\";width: 100%;border-bottom: 1px solid gray;flex-grow: 1;}#sk-e3ca3ba9-2840-41d2-bf90-0bdc0d085347 div.sk-label:hover label.sk-toggleable__label {background-color: #d4ebff;}#sk-e3ca3ba9-2840-41d2-bf90-0bdc0d085347 div.sk-serial::before {content: \"\";position: absolute;border-left: 1px solid gray;box-sizing: border-box;top: 2em;bottom: 0;left: 50%;}#sk-e3ca3ba9-2840-41d2-bf90-0bdc0d085347 div.sk-serial {display: flex;flex-direction: column;align-items: center;background-color: white;padding-right: 0.2em;padding-left: 0.2em;}#sk-e3ca3ba9-2840-41d2-bf90-0bdc0d085347 div.sk-item {z-index: 1;}#sk-e3ca3ba9-2840-41d2-bf90-0bdc0d085347 div.sk-parallel {display: flex;align-items: stretch;justify-content: center;background-color: white;}#sk-e3ca3ba9-2840-41d2-bf90-0bdc0d085347 div.sk-parallel::before {content: \"\";position: absolute;border-left: 1px solid gray;box-sizing: border-box;top: 2em;bottom: 0;left: 50%;}#sk-e3ca3ba9-2840-41d2-bf90-0bdc0d085347 div.sk-parallel-item {display: flex;flex-direction: column;position: relative;background-color: white;}#sk-e3ca3ba9-2840-41d2-bf90-0bdc0d085347 div.sk-parallel-item:first-child::after {align-self: flex-end;width: 50%;}#sk-e3ca3ba9-2840-41d2-bf90-0bdc0d085347 div.sk-parallel-item:last-child::after {align-self: flex-start;width: 50%;}#sk-e3ca3ba9-2840-41d2-bf90-0bdc0d085347 div.sk-parallel-item:only-child::after {width: 0;}#sk-e3ca3ba9-2840-41d2-bf90-0bdc0d085347 div.sk-dashed-wrapped {border: 1px dashed gray;margin: 0 0.4em 0.5em 0.4em;box-sizing: border-box;padding-bottom: 0.4em;background-color: white;position: relative;}#sk-e3ca3ba9-2840-41d2-bf90-0bdc0d085347 div.sk-label label {font-family: monospace;font-weight: bold;background-color: white;display: inline-block;line-height: 1.2em;}#sk-e3ca3ba9-2840-41d2-bf90-0bdc0d085347 div.sk-label-container {position: relative;z-index: 2;text-align: center;}#sk-e3ca3ba9-2840-41d2-bf90-0bdc0d085347 div.sk-container {/* jupyter's `normalize.less` sets `[hidden] { display: none; }` but bootstrap.min.css set `[hidden] { display: none !important; }` so we also need the `!important` here to be able to override the default hidden behavior on the sphinx rendered scikit-learn.org. See: https://github.com/scikit-learn/scikit-learn/issues/21755 */display: inline-block !important;position: relative;}#sk-e3ca3ba9-2840-41d2-bf90-0bdc0d085347 div.sk-text-repr-fallback {display: none;}</style><div id=\"sk-e3ca3ba9-2840-41d2-bf90-0bdc0d085347\" class=\"sk-top-container\"><div class=\"sk-text-repr-fallback\"><pre>Pipeline(steps=[(&#x27;simpleimputer&#x27;, SimpleImputer()),\n",
              "                (&#x27;standardscaler&#x27;, StandardScaler())])</pre><b>Please rerun this cell to show the HTML repr or trust the notebook.</b></div><div class=\"sk-container\" hidden><div class=\"sk-item sk-dashed-wrapped\"><div class=\"sk-label-container\"><div class=\"sk-label sk-toggleable\"><input class=\"sk-toggleable__control sk-hidden--visually\" id=\"aaa4fae9-d63f-442e-987a-bdd73b459429\" type=\"checkbox\" ><label for=\"aaa4fae9-d63f-442e-987a-bdd73b459429\" class=\"sk-toggleable__label sk-toggleable__label-arrow\">Pipeline</label><div class=\"sk-toggleable__content\"><pre>Pipeline(steps=[(&#x27;simpleimputer&#x27;, SimpleImputer()),\n",
              "                (&#x27;standardscaler&#x27;, StandardScaler())])</pre></div></div></div><div class=\"sk-serial\"><div class=\"sk-item\"><div class=\"sk-estimator sk-toggleable\"><input class=\"sk-toggleable__control sk-hidden--visually\" id=\"910a597a-1212-4986-b790-74dc59847ad2\" type=\"checkbox\" ><label for=\"910a597a-1212-4986-b790-74dc59847ad2\" class=\"sk-toggleable__label sk-toggleable__label-arrow\">SimpleImputer</label><div class=\"sk-toggleable__content\"><pre>SimpleImputer()</pre></div></div></div><div class=\"sk-item\"><div class=\"sk-estimator sk-toggleable\"><input class=\"sk-toggleable__control sk-hidden--visually\" id=\"18ea2461-3480-460e-bd2b-336da220cb8c\" type=\"checkbox\" ><label for=\"18ea2461-3480-460e-bd2b-336da220cb8c\" class=\"sk-toggleable__label sk-toggleable__label-arrow\">StandardScaler</label><div class=\"sk-toggleable__content\"><pre>StandardScaler()</pre></div></div></div></div></div></div></div>"
            ]
          },
          "metadata": {},
          "execution_count": 18
        }
      ]
    },
    {
      "cell_type": "code",
      "source": [
        "cat_pipeline = make_pipeline(freq_imputer, ohe)\n",
        "cat_pipeline"
      ],
      "metadata": {
        "colab": {
          "base_uri": "https://localhost:8080/",
          "height": 126
        },
        "id": "YOHCNG1Oiv9-",
        "outputId": "a53ee975-bc14-4ab7-f868-b99784d2bd83"
      },
      "execution_count": 19,
      "outputs": [
        {
          "output_type": "execute_result",
          "data": {
            "text/plain": [
              "Pipeline(steps=[('simpleimputer', SimpleImputer(strategy='most_frequent')),\n",
              "                ('onehotencoder',\n",
              "                 OneHotEncoder(handle_unknown='ignore', sparse=False))])"
            ],
            "text/html": [
              "<style>#sk-6ff91f4d-3f8c-4611-8a7b-0fba24099f8a {color: black;background-color: white;}#sk-6ff91f4d-3f8c-4611-8a7b-0fba24099f8a pre{padding: 0;}#sk-6ff91f4d-3f8c-4611-8a7b-0fba24099f8a div.sk-toggleable {background-color: white;}#sk-6ff91f4d-3f8c-4611-8a7b-0fba24099f8a label.sk-toggleable__label {cursor: pointer;display: block;width: 100%;margin-bottom: 0;padding: 0.3em;box-sizing: border-box;text-align: center;}#sk-6ff91f4d-3f8c-4611-8a7b-0fba24099f8a label.sk-toggleable__label-arrow:before {content: \"▸\";float: left;margin-right: 0.25em;color: #696969;}#sk-6ff91f4d-3f8c-4611-8a7b-0fba24099f8a label.sk-toggleable__label-arrow:hover:before {color: black;}#sk-6ff91f4d-3f8c-4611-8a7b-0fba24099f8a div.sk-estimator:hover label.sk-toggleable__label-arrow:before {color: black;}#sk-6ff91f4d-3f8c-4611-8a7b-0fba24099f8a div.sk-toggleable__content {max-height: 0;max-width: 0;overflow: hidden;text-align: left;background-color: #f0f8ff;}#sk-6ff91f4d-3f8c-4611-8a7b-0fba24099f8a div.sk-toggleable__content pre {margin: 0.2em;color: black;border-radius: 0.25em;background-color: #f0f8ff;}#sk-6ff91f4d-3f8c-4611-8a7b-0fba24099f8a input.sk-toggleable__control:checked~div.sk-toggleable__content {max-height: 200px;max-width: 100%;overflow: auto;}#sk-6ff91f4d-3f8c-4611-8a7b-0fba24099f8a input.sk-toggleable__control:checked~label.sk-toggleable__label-arrow:before {content: \"▾\";}#sk-6ff91f4d-3f8c-4611-8a7b-0fba24099f8a div.sk-estimator input.sk-toggleable__control:checked~label.sk-toggleable__label {background-color: #d4ebff;}#sk-6ff91f4d-3f8c-4611-8a7b-0fba24099f8a div.sk-label input.sk-toggleable__control:checked~label.sk-toggleable__label {background-color: #d4ebff;}#sk-6ff91f4d-3f8c-4611-8a7b-0fba24099f8a input.sk-hidden--visually {border: 0;clip: rect(1px 1px 1px 1px);clip: rect(1px, 1px, 1px, 1px);height: 1px;margin: -1px;overflow: hidden;padding: 0;position: absolute;width: 1px;}#sk-6ff91f4d-3f8c-4611-8a7b-0fba24099f8a div.sk-estimator {font-family: monospace;background-color: #f0f8ff;border: 1px dotted black;border-radius: 0.25em;box-sizing: border-box;margin-bottom: 0.5em;}#sk-6ff91f4d-3f8c-4611-8a7b-0fba24099f8a div.sk-estimator:hover {background-color: #d4ebff;}#sk-6ff91f4d-3f8c-4611-8a7b-0fba24099f8a div.sk-parallel-item::after {content: \"\";width: 100%;border-bottom: 1px solid gray;flex-grow: 1;}#sk-6ff91f4d-3f8c-4611-8a7b-0fba24099f8a div.sk-label:hover label.sk-toggleable__label {background-color: #d4ebff;}#sk-6ff91f4d-3f8c-4611-8a7b-0fba24099f8a div.sk-serial::before {content: \"\";position: absolute;border-left: 1px solid gray;box-sizing: border-box;top: 2em;bottom: 0;left: 50%;}#sk-6ff91f4d-3f8c-4611-8a7b-0fba24099f8a div.sk-serial {display: flex;flex-direction: column;align-items: center;background-color: white;padding-right: 0.2em;padding-left: 0.2em;}#sk-6ff91f4d-3f8c-4611-8a7b-0fba24099f8a div.sk-item {z-index: 1;}#sk-6ff91f4d-3f8c-4611-8a7b-0fba24099f8a div.sk-parallel {display: flex;align-items: stretch;justify-content: center;background-color: white;}#sk-6ff91f4d-3f8c-4611-8a7b-0fba24099f8a div.sk-parallel::before {content: \"\";position: absolute;border-left: 1px solid gray;box-sizing: border-box;top: 2em;bottom: 0;left: 50%;}#sk-6ff91f4d-3f8c-4611-8a7b-0fba24099f8a div.sk-parallel-item {display: flex;flex-direction: column;position: relative;background-color: white;}#sk-6ff91f4d-3f8c-4611-8a7b-0fba24099f8a div.sk-parallel-item:first-child::after {align-self: flex-end;width: 50%;}#sk-6ff91f4d-3f8c-4611-8a7b-0fba24099f8a div.sk-parallel-item:last-child::after {align-self: flex-start;width: 50%;}#sk-6ff91f4d-3f8c-4611-8a7b-0fba24099f8a div.sk-parallel-item:only-child::after {width: 0;}#sk-6ff91f4d-3f8c-4611-8a7b-0fba24099f8a div.sk-dashed-wrapped {border: 1px dashed gray;margin: 0 0.4em 0.5em 0.4em;box-sizing: border-box;padding-bottom: 0.4em;background-color: white;position: relative;}#sk-6ff91f4d-3f8c-4611-8a7b-0fba24099f8a div.sk-label label {font-family: monospace;font-weight: bold;background-color: white;display: inline-block;line-height: 1.2em;}#sk-6ff91f4d-3f8c-4611-8a7b-0fba24099f8a div.sk-label-container {position: relative;z-index: 2;text-align: center;}#sk-6ff91f4d-3f8c-4611-8a7b-0fba24099f8a div.sk-container {/* jupyter's `normalize.less` sets `[hidden] { display: none; }` but bootstrap.min.css set `[hidden] { display: none !important; }` so we also need the `!important` here to be able to override the default hidden behavior on the sphinx rendered scikit-learn.org. See: https://github.com/scikit-learn/scikit-learn/issues/21755 */display: inline-block !important;position: relative;}#sk-6ff91f4d-3f8c-4611-8a7b-0fba24099f8a div.sk-text-repr-fallback {display: none;}</style><div id=\"sk-6ff91f4d-3f8c-4611-8a7b-0fba24099f8a\" class=\"sk-top-container\"><div class=\"sk-text-repr-fallback\"><pre>Pipeline(steps=[(&#x27;simpleimputer&#x27;, SimpleImputer(strategy=&#x27;most_frequent&#x27;)),\n",
              "                (&#x27;onehotencoder&#x27;,\n",
              "                 OneHotEncoder(handle_unknown=&#x27;ignore&#x27;, sparse=False))])</pre><b>Please rerun this cell to show the HTML repr or trust the notebook.</b></div><div class=\"sk-container\" hidden><div class=\"sk-item sk-dashed-wrapped\"><div class=\"sk-label-container\"><div class=\"sk-label sk-toggleable\"><input class=\"sk-toggleable__control sk-hidden--visually\" id=\"267cf00e-0789-4925-97e1-7a5f80171443\" type=\"checkbox\" ><label for=\"267cf00e-0789-4925-97e1-7a5f80171443\" class=\"sk-toggleable__label sk-toggleable__label-arrow\">Pipeline</label><div class=\"sk-toggleable__content\"><pre>Pipeline(steps=[(&#x27;simpleimputer&#x27;, SimpleImputer(strategy=&#x27;most_frequent&#x27;)),\n",
              "                (&#x27;onehotencoder&#x27;,\n",
              "                 OneHotEncoder(handle_unknown=&#x27;ignore&#x27;, sparse=False))])</pre></div></div></div><div class=\"sk-serial\"><div class=\"sk-item\"><div class=\"sk-estimator sk-toggleable\"><input class=\"sk-toggleable__control sk-hidden--visually\" id=\"9985b5a8-dd2b-4572-b0b2-619170d1f9d1\" type=\"checkbox\" ><label for=\"9985b5a8-dd2b-4572-b0b2-619170d1f9d1\" class=\"sk-toggleable__label sk-toggleable__label-arrow\">SimpleImputer</label><div class=\"sk-toggleable__content\"><pre>SimpleImputer(strategy=&#x27;most_frequent&#x27;)</pre></div></div></div><div class=\"sk-item\"><div class=\"sk-estimator sk-toggleable\"><input class=\"sk-toggleable__control sk-hidden--visually\" id=\"28baa645-7553-4502-9606-e91989241a64\" type=\"checkbox\" ><label for=\"28baa645-7553-4502-9606-e91989241a64\" class=\"sk-toggleable__label sk-toggleable__label-arrow\">OneHotEncoder</label><div class=\"sk-toggleable__content\"><pre>OneHotEncoder(handle_unknown=&#x27;ignore&#x27;, sparse=False)</pre></div></div></div></div></div></div></div>"
            ]
          },
          "metadata": {},
          "execution_count": 19
        }
      ]
    },
    {
      "cell_type": "code",
      "source": [
        "# Tuples for the column tranformer\n",
        "num_tuple = (num_pipeline, num_selector)\n",
        "cat_tuple = (cat_pipeline, cat_selector)\n",
        "# Column Transformer\n",
        "preprocessor = make_column_transformer(num_tuple, cat_tuple, remainder='passthrough')\n",
        "preprocessor"
      ],
      "metadata": {
        "colab": {
          "base_uri": "https://localhost:8080/",
          "height": 153
        },
        "id": "wMaVe2ZIi2PT",
        "outputId": "31ce2534-df6a-4795-ac4c-2ca44b25bf07"
      },
      "execution_count": 20,
      "outputs": [
        {
          "output_type": "execute_result",
          "data": {
            "text/plain": [
              "ColumnTransformer(remainder='passthrough',\n",
              "                  transformers=[('pipeline-1',\n",
              "                                 Pipeline(steps=[('simpleimputer',\n",
              "                                                  SimpleImputer()),\n",
              "                                                 ('standardscaler',\n",
              "                                                  StandardScaler())]),\n",
              "                                 <sklearn.compose._column_transformer.make_column_selector object at 0x7ff9afea22d0>),\n",
              "                                ('pipeline-2',\n",
              "                                 Pipeline(steps=[('simpleimputer',\n",
              "                                                  SimpleImputer(strategy='most_frequent')),\n",
              "                                                 ('onehotencoder',\n",
              "                                                  OneHotEncoder(handle_unknown='ignore',\n",
              "                                                                sparse=False))]),\n",
              "                                 <sklearn.compose._column_transformer.make_column_selector object at 0x7ff9afea2ad0>)])"
            ],
            "text/html": [
              "<style>#sk-bb76edd6-8ca2-4c09-afc2-5a0de286ecf5 {color: black;background-color: white;}#sk-bb76edd6-8ca2-4c09-afc2-5a0de286ecf5 pre{padding: 0;}#sk-bb76edd6-8ca2-4c09-afc2-5a0de286ecf5 div.sk-toggleable {background-color: white;}#sk-bb76edd6-8ca2-4c09-afc2-5a0de286ecf5 label.sk-toggleable__label {cursor: pointer;display: block;width: 100%;margin-bottom: 0;padding: 0.3em;box-sizing: border-box;text-align: center;}#sk-bb76edd6-8ca2-4c09-afc2-5a0de286ecf5 label.sk-toggleable__label-arrow:before {content: \"▸\";float: left;margin-right: 0.25em;color: #696969;}#sk-bb76edd6-8ca2-4c09-afc2-5a0de286ecf5 label.sk-toggleable__label-arrow:hover:before {color: black;}#sk-bb76edd6-8ca2-4c09-afc2-5a0de286ecf5 div.sk-estimator:hover label.sk-toggleable__label-arrow:before {color: black;}#sk-bb76edd6-8ca2-4c09-afc2-5a0de286ecf5 div.sk-toggleable__content {max-height: 0;max-width: 0;overflow: hidden;text-align: left;background-color: #f0f8ff;}#sk-bb76edd6-8ca2-4c09-afc2-5a0de286ecf5 div.sk-toggleable__content pre {margin: 0.2em;color: black;border-radius: 0.25em;background-color: #f0f8ff;}#sk-bb76edd6-8ca2-4c09-afc2-5a0de286ecf5 input.sk-toggleable__control:checked~div.sk-toggleable__content {max-height: 200px;max-width: 100%;overflow: auto;}#sk-bb76edd6-8ca2-4c09-afc2-5a0de286ecf5 input.sk-toggleable__control:checked~label.sk-toggleable__label-arrow:before {content: \"▾\";}#sk-bb76edd6-8ca2-4c09-afc2-5a0de286ecf5 div.sk-estimator input.sk-toggleable__control:checked~label.sk-toggleable__label {background-color: #d4ebff;}#sk-bb76edd6-8ca2-4c09-afc2-5a0de286ecf5 div.sk-label input.sk-toggleable__control:checked~label.sk-toggleable__label {background-color: #d4ebff;}#sk-bb76edd6-8ca2-4c09-afc2-5a0de286ecf5 input.sk-hidden--visually {border: 0;clip: rect(1px 1px 1px 1px);clip: rect(1px, 1px, 1px, 1px);height: 1px;margin: -1px;overflow: hidden;padding: 0;position: absolute;width: 1px;}#sk-bb76edd6-8ca2-4c09-afc2-5a0de286ecf5 div.sk-estimator {font-family: monospace;background-color: #f0f8ff;border: 1px dotted black;border-radius: 0.25em;box-sizing: border-box;margin-bottom: 0.5em;}#sk-bb76edd6-8ca2-4c09-afc2-5a0de286ecf5 div.sk-estimator:hover {background-color: #d4ebff;}#sk-bb76edd6-8ca2-4c09-afc2-5a0de286ecf5 div.sk-parallel-item::after {content: \"\";width: 100%;border-bottom: 1px solid gray;flex-grow: 1;}#sk-bb76edd6-8ca2-4c09-afc2-5a0de286ecf5 div.sk-label:hover label.sk-toggleable__label {background-color: #d4ebff;}#sk-bb76edd6-8ca2-4c09-afc2-5a0de286ecf5 div.sk-serial::before {content: \"\";position: absolute;border-left: 1px solid gray;box-sizing: border-box;top: 2em;bottom: 0;left: 50%;}#sk-bb76edd6-8ca2-4c09-afc2-5a0de286ecf5 div.sk-serial {display: flex;flex-direction: column;align-items: center;background-color: white;padding-right: 0.2em;padding-left: 0.2em;}#sk-bb76edd6-8ca2-4c09-afc2-5a0de286ecf5 div.sk-item {z-index: 1;}#sk-bb76edd6-8ca2-4c09-afc2-5a0de286ecf5 div.sk-parallel {display: flex;align-items: stretch;justify-content: center;background-color: white;}#sk-bb76edd6-8ca2-4c09-afc2-5a0de286ecf5 div.sk-parallel::before {content: \"\";position: absolute;border-left: 1px solid gray;box-sizing: border-box;top: 2em;bottom: 0;left: 50%;}#sk-bb76edd6-8ca2-4c09-afc2-5a0de286ecf5 div.sk-parallel-item {display: flex;flex-direction: column;position: relative;background-color: white;}#sk-bb76edd6-8ca2-4c09-afc2-5a0de286ecf5 div.sk-parallel-item:first-child::after {align-self: flex-end;width: 50%;}#sk-bb76edd6-8ca2-4c09-afc2-5a0de286ecf5 div.sk-parallel-item:last-child::after {align-self: flex-start;width: 50%;}#sk-bb76edd6-8ca2-4c09-afc2-5a0de286ecf5 div.sk-parallel-item:only-child::after {width: 0;}#sk-bb76edd6-8ca2-4c09-afc2-5a0de286ecf5 div.sk-dashed-wrapped {border: 1px dashed gray;margin: 0 0.4em 0.5em 0.4em;box-sizing: border-box;padding-bottom: 0.4em;background-color: white;position: relative;}#sk-bb76edd6-8ca2-4c09-afc2-5a0de286ecf5 div.sk-label label {font-family: monospace;font-weight: bold;background-color: white;display: inline-block;line-height: 1.2em;}#sk-bb76edd6-8ca2-4c09-afc2-5a0de286ecf5 div.sk-label-container {position: relative;z-index: 2;text-align: center;}#sk-bb76edd6-8ca2-4c09-afc2-5a0de286ecf5 div.sk-container {/* jupyter's `normalize.less` sets `[hidden] { display: none; }` but bootstrap.min.css set `[hidden] { display: none !important; }` so we also need the `!important` here to be able to override the default hidden behavior on the sphinx rendered scikit-learn.org. See: https://github.com/scikit-learn/scikit-learn/issues/21755 */display: inline-block !important;position: relative;}#sk-bb76edd6-8ca2-4c09-afc2-5a0de286ecf5 div.sk-text-repr-fallback {display: none;}</style><div id=\"sk-bb76edd6-8ca2-4c09-afc2-5a0de286ecf5\" class=\"sk-top-container\"><div class=\"sk-text-repr-fallback\"><pre>ColumnTransformer(remainder=&#x27;passthrough&#x27;,\n",
              "                  transformers=[(&#x27;pipeline-1&#x27;,\n",
              "                                 Pipeline(steps=[(&#x27;simpleimputer&#x27;,\n",
              "                                                  SimpleImputer()),\n",
              "                                                 (&#x27;standardscaler&#x27;,\n",
              "                                                  StandardScaler())]),\n",
              "                                 &lt;sklearn.compose._column_transformer.make_column_selector object at 0x7ff9afea22d0&gt;),\n",
              "                                (&#x27;pipeline-2&#x27;,\n",
              "                                 Pipeline(steps=[(&#x27;simpleimputer&#x27;,\n",
              "                                                  SimpleImputer(strategy=&#x27;most_frequent&#x27;)),\n",
              "                                                 (&#x27;onehotencoder&#x27;,\n",
              "                                                  OneHotEncoder(handle_unknown=&#x27;ignore&#x27;,\n",
              "                                                                sparse=False))]),\n",
              "                                 &lt;sklearn.compose._column_transformer.make_column_selector object at 0x7ff9afea2ad0&gt;)])</pre><b>Please rerun this cell to show the HTML repr or trust the notebook.</b></div><div class=\"sk-container\" hidden><div class=\"sk-item sk-dashed-wrapped\"><div class=\"sk-label-container\"><div class=\"sk-label sk-toggleable\"><input class=\"sk-toggleable__control sk-hidden--visually\" id=\"53ff1574-f5ab-4ed4-8ad4-ac65dc0ba664\" type=\"checkbox\" ><label for=\"53ff1574-f5ab-4ed4-8ad4-ac65dc0ba664\" class=\"sk-toggleable__label sk-toggleable__label-arrow\">ColumnTransformer</label><div class=\"sk-toggleable__content\"><pre>ColumnTransformer(remainder=&#x27;passthrough&#x27;,\n",
              "                  transformers=[(&#x27;pipeline-1&#x27;,\n",
              "                                 Pipeline(steps=[(&#x27;simpleimputer&#x27;,\n",
              "                                                  SimpleImputer()),\n",
              "                                                 (&#x27;standardscaler&#x27;,\n",
              "                                                  StandardScaler())]),\n",
              "                                 &lt;sklearn.compose._column_transformer.make_column_selector object at 0x7ff9afea22d0&gt;),\n",
              "                                (&#x27;pipeline-2&#x27;,\n",
              "                                 Pipeline(steps=[(&#x27;simpleimputer&#x27;,\n",
              "                                                  SimpleImputer(strategy=&#x27;most_frequent&#x27;)),\n",
              "                                                 (&#x27;onehotencoder&#x27;,\n",
              "                                                  OneHotEncoder(handle_unknown=&#x27;ignore&#x27;,\n",
              "                                                                sparse=False))]),\n",
              "                                 &lt;sklearn.compose._column_transformer.make_column_selector object at 0x7ff9afea2ad0&gt;)])</pre></div></div></div><div class=\"sk-parallel\"><div class=\"sk-parallel-item\"><div class=\"sk-item\"><div class=\"sk-label-container\"><div class=\"sk-label sk-toggleable\"><input class=\"sk-toggleable__control sk-hidden--visually\" id=\"027aa14b-c164-46e4-8c91-74ab39ae76e0\" type=\"checkbox\" ><label for=\"027aa14b-c164-46e4-8c91-74ab39ae76e0\" class=\"sk-toggleable__label sk-toggleable__label-arrow\">pipeline-1</label><div class=\"sk-toggleable__content\"><pre>&lt;sklearn.compose._column_transformer.make_column_selector object at 0x7ff9afea22d0&gt;</pre></div></div></div><div class=\"sk-serial\"><div class=\"sk-item\"><div class=\"sk-serial\"><div class=\"sk-item\"><div class=\"sk-estimator sk-toggleable\"><input class=\"sk-toggleable__control sk-hidden--visually\" id=\"0b2560b7-742d-4d90-88c5-d52a14f3c44b\" type=\"checkbox\" ><label for=\"0b2560b7-742d-4d90-88c5-d52a14f3c44b\" class=\"sk-toggleable__label sk-toggleable__label-arrow\">SimpleImputer</label><div class=\"sk-toggleable__content\"><pre>SimpleImputer()</pre></div></div></div><div class=\"sk-item\"><div class=\"sk-estimator sk-toggleable\"><input class=\"sk-toggleable__control sk-hidden--visually\" id=\"08bb176b-d619-4881-af40-d7f99f7ece31\" type=\"checkbox\" ><label for=\"08bb176b-d619-4881-af40-d7f99f7ece31\" class=\"sk-toggleable__label sk-toggleable__label-arrow\">StandardScaler</label><div class=\"sk-toggleable__content\"><pre>StandardScaler()</pre></div></div></div></div></div></div></div></div><div class=\"sk-parallel-item\"><div class=\"sk-item\"><div class=\"sk-label-container\"><div class=\"sk-label sk-toggleable\"><input class=\"sk-toggleable__control sk-hidden--visually\" id=\"04efb97a-4186-4a7f-8c09-a826db4740ac\" type=\"checkbox\" ><label for=\"04efb97a-4186-4a7f-8c09-a826db4740ac\" class=\"sk-toggleable__label sk-toggleable__label-arrow\">pipeline-2</label><div class=\"sk-toggleable__content\"><pre>&lt;sklearn.compose._column_transformer.make_column_selector object at 0x7ff9afea2ad0&gt;</pre></div></div></div><div class=\"sk-serial\"><div class=\"sk-item\"><div class=\"sk-serial\"><div class=\"sk-item\"><div class=\"sk-estimator sk-toggleable\"><input class=\"sk-toggleable__control sk-hidden--visually\" id=\"7b3ce4d2-b813-46d6-97db-cca26f8158c9\" type=\"checkbox\" ><label for=\"7b3ce4d2-b813-46d6-97db-cca26f8158c9\" class=\"sk-toggleable__label sk-toggleable__label-arrow\">SimpleImputer</label><div class=\"sk-toggleable__content\"><pre>SimpleImputer(strategy=&#x27;most_frequent&#x27;)</pre></div></div></div><div class=\"sk-item\"><div class=\"sk-estimator sk-toggleable\"><input class=\"sk-toggleable__control sk-hidden--visually\" id=\"cea011c1-317a-4980-9b42-31d9e84986db\" type=\"checkbox\" ><label for=\"cea011c1-317a-4980-9b42-31d9e84986db\" class=\"sk-toggleable__label sk-toggleable__label-arrow\">OneHotEncoder</label><div class=\"sk-toggleable__content\"><pre>OneHotEncoder(handle_unknown=&#x27;ignore&#x27;, sparse=False)</pre></div></div></div></div></div></div></div></div><div class=\"sk-parallel-item\"><div class=\"sk-item\"><div class=\"sk-label-container\"><div class=\"sk-label sk-toggleable\"><input class=\"sk-toggleable__control sk-hidden--visually\" id=\"af3e0ea6-2375-436a-a339-be18ce752cf6\" type=\"checkbox\" ><label for=\"af3e0ea6-2375-436a-a339-be18ce752cf6\" class=\"sk-toggleable__label sk-toggleable__label-arrow\">remainder</label><div class=\"sk-toggleable__content\"><pre></pre></div></div></div><div class=\"sk-serial\"><div class=\"sk-item\"><div class=\"sk-estimator sk-toggleable\"><input class=\"sk-toggleable__control sk-hidden--visually\" id=\"1aed6dac-b2c2-40ff-b90e-177061465808\" type=\"checkbox\" ><label for=\"1aed6dac-b2c2-40ff-b90e-177061465808\" class=\"sk-toggleable__label sk-toggleable__label-arrow\">passthrough</label><div class=\"sk-toggleable__content\"><pre>passthrough</pre></div></div></div></div></div></div></div></div></div></div>"
            ]
          },
          "metadata": {},
          "execution_count": 20
        }
      ]
    },
    {
      "cell_type": "code",
      "source": [
        "# Fitting the column transformer onto the training data\n",
        "preprocessor.fit(X_train)"
      ],
      "metadata": {
        "colab": {
          "base_uri": "https://localhost:8080/",
          "height": 153
        },
        "id": "twiYIZoSi_EZ",
        "outputId": "b4bed653-4aa4-4bed-c1ac-16896013073b"
      },
      "execution_count": 21,
      "outputs": [
        {
          "output_type": "execute_result",
          "data": {
            "text/plain": [
              "ColumnTransformer(remainder='passthrough',\n",
              "                  transformers=[('pipeline-1',\n",
              "                                 Pipeline(steps=[('simpleimputer',\n",
              "                                                  SimpleImputer()),\n",
              "                                                 ('standardscaler',\n",
              "                                                  StandardScaler())]),\n",
              "                                 <sklearn.compose._column_transformer.make_column_selector object at 0x7ff9afea22d0>),\n",
              "                                ('pipeline-2',\n",
              "                                 Pipeline(steps=[('simpleimputer',\n",
              "                                                  SimpleImputer(strategy='most_frequent')),\n",
              "                                                 ('onehotencoder',\n",
              "                                                  OneHotEncoder(handle_unknown='ignore',\n",
              "                                                                sparse=False))]),\n",
              "                                 <sklearn.compose._column_transformer.make_column_selector object at 0x7ff9afea2ad0>)])"
            ],
            "text/html": [
              "<style>#sk-9a7e822e-6494-46b9-a077-69132af04461 {color: black;background-color: white;}#sk-9a7e822e-6494-46b9-a077-69132af04461 pre{padding: 0;}#sk-9a7e822e-6494-46b9-a077-69132af04461 div.sk-toggleable {background-color: white;}#sk-9a7e822e-6494-46b9-a077-69132af04461 label.sk-toggleable__label {cursor: pointer;display: block;width: 100%;margin-bottom: 0;padding: 0.3em;box-sizing: border-box;text-align: center;}#sk-9a7e822e-6494-46b9-a077-69132af04461 label.sk-toggleable__label-arrow:before {content: \"▸\";float: left;margin-right: 0.25em;color: #696969;}#sk-9a7e822e-6494-46b9-a077-69132af04461 label.sk-toggleable__label-arrow:hover:before {color: black;}#sk-9a7e822e-6494-46b9-a077-69132af04461 div.sk-estimator:hover label.sk-toggleable__label-arrow:before {color: black;}#sk-9a7e822e-6494-46b9-a077-69132af04461 div.sk-toggleable__content {max-height: 0;max-width: 0;overflow: hidden;text-align: left;background-color: #f0f8ff;}#sk-9a7e822e-6494-46b9-a077-69132af04461 div.sk-toggleable__content pre {margin: 0.2em;color: black;border-radius: 0.25em;background-color: #f0f8ff;}#sk-9a7e822e-6494-46b9-a077-69132af04461 input.sk-toggleable__control:checked~div.sk-toggleable__content {max-height: 200px;max-width: 100%;overflow: auto;}#sk-9a7e822e-6494-46b9-a077-69132af04461 input.sk-toggleable__control:checked~label.sk-toggleable__label-arrow:before {content: \"▾\";}#sk-9a7e822e-6494-46b9-a077-69132af04461 div.sk-estimator input.sk-toggleable__control:checked~label.sk-toggleable__label {background-color: #d4ebff;}#sk-9a7e822e-6494-46b9-a077-69132af04461 div.sk-label input.sk-toggleable__control:checked~label.sk-toggleable__label {background-color: #d4ebff;}#sk-9a7e822e-6494-46b9-a077-69132af04461 input.sk-hidden--visually {border: 0;clip: rect(1px 1px 1px 1px);clip: rect(1px, 1px, 1px, 1px);height: 1px;margin: -1px;overflow: hidden;padding: 0;position: absolute;width: 1px;}#sk-9a7e822e-6494-46b9-a077-69132af04461 div.sk-estimator {font-family: monospace;background-color: #f0f8ff;border: 1px dotted black;border-radius: 0.25em;box-sizing: border-box;margin-bottom: 0.5em;}#sk-9a7e822e-6494-46b9-a077-69132af04461 div.sk-estimator:hover {background-color: #d4ebff;}#sk-9a7e822e-6494-46b9-a077-69132af04461 div.sk-parallel-item::after {content: \"\";width: 100%;border-bottom: 1px solid gray;flex-grow: 1;}#sk-9a7e822e-6494-46b9-a077-69132af04461 div.sk-label:hover label.sk-toggleable__label {background-color: #d4ebff;}#sk-9a7e822e-6494-46b9-a077-69132af04461 div.sk-serial::before {content: \"\";position: absolute;border-left: 1px solid gray;box-sizing: border-box;top: 2em;bottom: 0;left: 50%;}#sk-9a7e822e-6494-46b9-a077-69132af04461 div.sk-serial {display: flex;flex-direction: column;align-items: center;background-color: white;padding-right: 0.2em;padding-left: 0.2em;}#sk-9a7e822e-6494-46b9-a077-69132af04461 div.sk-item {z-index: 1;}#sk-9a7e822e-6494-46b9-a077-69132af04461 div.sk-parallel {display: flex;align-items: stretch;justify-content: center;background-color: white;}#sk-9a7e822e-6494-46b9-a077-69132af04461 div.sk-parallel::before {content: \"\";position: absolute;border-left: 1px solid gray;box-sizing: border-box;top: 2em;bottom: 0;left: 50%;}#sk-9a7e822e-6494-46b9-a077-69132af04461 div.sk-parallel-item {display: flex;flex-direction: column;position: relative;background-color: white;}#sk-9a7e822e-6494-46b9-a077-69132af04461 div.sk-parallel-item:first-child::after {align-self: flex-end;width: 50%;}#sk-9a7e822e-6494-46b9-a077-69132af04461 div.sk-parallel-item:last-child::after {align-self: flex-start;width: 50%;}#sk-9a7e822e-6494-46b9-a077-69132af04461 div.sk-parallel-item:only-child::after {width: 0;}#sk-9a7e822e-6494-46b9-a077-69132af04461 div.sk-dashed-wrapped {border: 1px dashed gray;margin: 0 0.4em 0.5em 0.4em;box-sizing: border-box;padding-bottom: 0.4em;background-color: white;position: relative;}#sk-9a7e822e-6494-46b9-a077-69132af04461 div.sk-label label {font-family: monospace;font-weight: bold;background-color: white;display: inline-block;line-height: 1.2em;}#sk-9a7e822e-6494-46b9-a077-69132af04461 div.sk-label-container {position: relative;z-index: 2;text-align: center;}#sk-9a7e822e-6494-46b9-a077-69132af04461 div.sk-container {/* jupyter's `normalize.less` sets `[hidden] { display: none; }` but bootstrap.min.css set `[hidden] { display: none !important; }` so we also need the `!important` here to be able to override the default hidden behavior on the sphinx rendered scikit-learn.org. See: https://github.com/scikit-learn/scikit-learn/issues/21755 */display: inline-block !important;position: relative;}#sk-9a7e822e-6494-46b9-a077-69132af04461 div.sk-text-repr-fallback {display: none;}</style><div id=\"sk-9a7e822e-6494-46b9-a077-69132af04461\" class=\"sk-top-container\"><div class=\"sk-text-repr-fallback\"><pre>ColumnTransformer(remainder=&#x27;passthrough&#x27;,\n",
              "                  transformers=[(&#x27;pipeline-1&#x27;,\n",
              "                                 Pipeline(steps=[(&#x27;simpleimputer&#x27;,\n",
              "                                                  SimpleImputer()),\n",
              "                                                 (&#x27;standardscaler&#x27;,\n",
              "                                                  StandardScaler())]),\n",
              "                                 &lt;sklearn.compose._column_transformer.make_column_selector object at 0x7ff9afea22d0&gt;),\n",
              "                                (&#x27;pipeline-2&#x27;,\n",
              "                                 Pipeline(steps=[(&#x27;simpleimputer&#x27;,\n",
              "                                                  SimpleImputer(strategy=&#x27;most_frequent&#x27;)),\n",
              "                                                 (&#x27;onehotencoder&#x27;,\n",
              "                                                  OneHotEncoder(handle_unknown=&#x27;ignore&#x27;,\n",
              "                                                                sparse=False))]),\n",
              "                                 &lt;sklearn.compose._column_transformer.make_column_selector object at 0x7ff9afea2ad0&gt;)])</pre><b>Please rerun this cell to show the HTML repr or trust the notebook.</b></div><div class=\"sk-container\" hidden><div class=\"sk-item sk-dashed-wrapped\"><div class=\"sk-label-container\"><div class=\"sk-label sk-toggleable\"><input class=\"sk-toggleable__control sk-hidden--visually\" id=\"3bc8aa3b-6970-4fdd-b9eb-5e0c074f5ce5\" type=\"checkbox\" ><label for=\"3bc8aa3b-6970-4fdd-b9eb-5e0c074f5ce5\" class=\"sk-toggleable__label sk-toggleable__label-arrow\">ColumnTransformer</label><div class=\"sk-toggleable__content\"><pre>ColumnTransformer(remainder=&#x27;passthrough&#x27;,\n",
              "                  transformers=[(&#x27;pipeline-1&#x27;,\n",
              "                                 Pipeline(steps=[(&#x27;simpleimputer&#x27;,\n",
              "                                                  SimpleImputer()),\n",
              "                                                 (&#x27;standardscaler&#x27;,\n",
              "                                                  StandardScaler())]),\n",
              "                                 &lt;sklearn.compose._column_transformer.make_column_selector object at 0x7ff9afea22d0&gt;),\n",
              "                                (&#x27;pipeline-2&#x27;,\n",
              "                                 Pipeline(steps=[(&#x27;simpleimputer&#x27;,\n",
              "                                                  SimpleImputer(strategy=&#x27;most_frequent&#x27;)),\n",
              "                                                 (&#x27;onehotencoder&#x27;,\n",
              "                                                  OneHotEncoder(handle_unknown=&#x27;ignore&#x27;,\n",
              "                                                                sparse=False))]),\n",
              "                                 &lt;sklearn.compose._column_transformer.make_column_selector object at 0x7ff9afea2ad0&gt;)])</pre></div></div></div><div class=\"sk-parallel\"><div class=\"sk-parallel-item\"><div class=\"sk-item\"><div class=\"sk-label-container\"><div class=\"sk-label sk-toggleable\"><input class=\"sk-toggleable__control sk-hidden--visually\" id=\"61fb418c-dd31-4cb9-a000-52382bcb882a\" type=\"checkbox\" ><label for=\"61fb418c-dd31-4cb9-a000-52382bcb882a\" class=\"sk-toggleable__label sk-toggleable__label-arrow\">pipeline-1</label><div class=\"sk-toggleable__content\"><pre>&lt;sklearn.compose._column_transformer.make_column_selector object at 0x7ff9afea22d0&gt;</pre></div></div></div><div class=\"sk-serial\"><div class=\"sk-item\"><div class=\"sk-serial\"><div class=\"sk-item\"><div class=\"sk-estimator sk-toggleable\"><input class=\"sk-toggleable__control sk-hidden--visually\" id=\"1343c9f4-8604-4d97-aa06-de1889e784ec\" type=\"checkbox\" ><label for=\"1343c9f4-8604-4d97-aa06-de1889e784ec\" class=\"sk-toggleable__label sk-toggleable__label-arrow\">SimpleImputer</label><div class=\"sk-toggleable__content\"><pre>SimpleImputer()</pre></div></div></div><div class=\"sk-item\"><div class=\"sk-estimator sk-toggleable\"><input class=\"sk-toggleable__control sk-hidden--visually\" id=\"29042b6b-7df1-4147-a034-12404fd31dff\" type=\"checkbox\" ><label for=\"29042b6b-7df1-4147-a034-12404fd31dff\" class=\"sk-toggleable__label sk-toggleable__label-arrow\">StandardScaler</label><div class=\"sk-toggleable__content\"><pre>StandardScaler()</pre></div></div></div></div></div></div></div></div><div class=\"sk-parallel-item\"><div class=\"sk-item\"><div class=\"sk-label-container\"><div class=\"sk-label sk-toggleable\"><input class=\"sk-toggleable__control sk-hidden--visually\" id=\"3d57ae73-3bf8-4578-a93c-1498f9864c9f\" type=\"checkbox\" ><label for=\"3d57ae73-3bf8-4578-a93c-1498f9864c9f\" class=\"sk-toggleable__label sk-toggleable__label-arrow\">pipeline-2</label><div class=\"sk-toggleable__content\"><pre>&lt;sklearn.compose._column_transformer.make_column_selector object at 0x7ff9afea2ad0&gt;</pre></div></div></div><div class=\"sk-serial\"><div class=\"sk-item\"><div class=\"sk-serial\"><div class=\"sk-item\"><div class=\"sk-estimator sk-toggleable\"><input class=\"sk-toggleable__control sk-hidden--visually\" id=\"2c239d2d-dc1a-426e-9c8e-bb805e8fd88d\" type=\"checkbox\" ><label for=\"2c239d2d-dc1a-426e-9c8e-bb805e8fd88d\" class=\"sk-toggleable__label sk-toggleable__label-arrow\">SimpleImputer</label><div class=\"sk-toggleable__content\"><pre>SimpleImputer(strategy=&#x27;most_frequent&#x27;)</pre></div></div></div><div class=\"sk-item\"><div class=\"sk-estimator sk-toggleable\"><input class=\"sk-toggleable__control sk-hidden--visually\" id=\"0e02149b-c825-43ab-9033-b5c9a881a82e\" type=\"checkbox\" ><label for=\"0e02149b-c825-43ab-9033-b5c9a881a82e\" class=\"sk-toggleable__label sk-toggleable__label-arrow\">OneHotEncoder</label><div class=\"sk-toggleable__content\"><pre>OneHotEncoder(handle_unknown=&#x27;ignore&#x27;, sparse=False)</pre></div></div></div></div></div></div></div></div><div class=\"sk-parallel-item\"><div class=\"sk-item\"><div class=\"sk-label-container\"><div class=\"sk-label sk-toggleable\"><input class=\"sk-toggleable__control sk-hidden--visually\" id=\"89c5aa0f-c53c-45cb-809b-7d72ecb37c52\" type=\"checkbox\" ><label for=\"89c5aa0f-c53c-45cb-809b-7d72ecb37c52\" class=\"sk-toggleable__label sk-toggleable__label-arrow\">remainder</label><div class=\"sk-toggleable__content\"><pre>[]</pre></div></div></div><div class=\"sk-serial\"><div class=\"sk-item\"><div class=\"sk-estimator sk-toggleable\"><input class=\"sk-toggleable__control sk-hidden--visually\" id=\"c50b919b-6635-4bb5-a8f6-1d80e1b1732e\" type=\"checkbox\" ><label for=\"c50b919b-6635-4bb5-a8f6-1d80e1b1732e\" class=\"sk-toggleable__label sk-toggleable__label-arrow\">passthrough</label><div class=\"sk-toggleable__content\"><pre>passthrough</pre></div></div></div></div></div></div></div></div></div></div>"
            ]
          },
          "metadata": {},
          "execution_count": 21
        }
      ]
    },
    {
      "cell_type": "code",
      "source": [
        "# Transforming training and testing data\n",
        "X_train_processed = preprocessor.transform(X_train)\n",
        "X_test_processed = preprocessor.transform(X_test)"
      ],
      "metadata": {
        "id": "QemsqO-4jIBP"
      },
      "execution_count": 22,
      "outputs": []
    },
    {
      "cell_type": "code",
      "source": [
        "# Inspecting for missing values and confirming data is scaled and one-hot encoded. Code adapted from the course material\n",
        "print(np.isnan(X_train_processed).sum().sum(), 'missing values in training data')\n",
        "print(np.isnan(X_test_processed).sum().sum(), 'missing values in testing data')\n",
        "print('\\n')\n",
        "print('All data in X_train_processed are', X_train_processed.dtype)\n",
        "print('All data in X_test_processed are', X_test_processed.dtype)\n",
        "print('\\n')\n",
        "print('shape of data is', X_train_processed.shape)\n",
        "print('\\n')\n",
        "X_train_processed"
      ],
      "metadata": {
        "colab": {
          "base_uri": "https://localhost:8080/"
        },
        "id": "ELv6M-gGjzhI",
        "outputId": "591b67ae-54d5-4a0c-c566-7ad91d7e2be7"
      },
      "execution_count": 23,
      "outputs": [
        {
          "output_type": "stream",
          "name": "stdout",
          "text": [
            "0 missing values in training data\n",
            "0 missing values in testing data\n",
            "\n",
            "\n",
            "All data in X_train_processed are float64\n",
            "All data in X_test_processed are float64\n",
            "\n",
            "\n",
            "shape of data is (6392, 43)\n",
            "\n",
            "\n"
          ]
        },
        {
          "output_type": "execute_result",
          "data": {
            "text/plain": [
              "array([[ 0.81724868, -0.71277507,  1.82810922, ...,  0.        ,\n",
              "         1.        ,  0.        ],\n",
              "       [ 0.5563395 , -1.29105225,  0.60336888, ...,  0.        ,\n",
              "         1.        ,  0.        ],\n",
              "       [-0.13151196,  1.81331864,  0.24454056, ...,  1.        ,\n",
              "         0.        ,  0.        ],\n",
              "       ...,\n",
              "       [ 1.11373638, -0.92052713,  1.52302674, ...,  1.        ,\n",
              "         0.        ,  0.        ],\n",
              "       [ 1.76600931, -0.2277552 , -0.38377708, ...,  1.        ,\n",
              "         0.        ,  0.        ],\n",
              "       [ 0.81724868, -0.95867683, -0.73836105, ...,  1.        ,\n",
              "         0.        ,  0.        ]])"
            ]
          },
          "metadata": {},
          "execution_count": 23
        }
      ]
    }
  ]
}